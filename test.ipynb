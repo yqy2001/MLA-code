{
 "cells": [
  {
   "cell_type": "code",
   "execution_count": 22,
   "metadata": {},
   "outputs": [
    {
     "name": "stdout",
     "output_type": "stream",
     "text": [
      "[1, 1.5, 1.643616050735785] [0.20735384682180016, 0.01060408056376656, 0.0002912955492947603] 1.643616050735785\n",
      "0.0002912955492947603, 0.000291296716498235\n",
      "solution: 1.643616050735785\n",
      "ut: 1.643616050735785\n"
     ]
    },
    {
     "data": {
      "image/png": "[encoded data removed]",
      "text/plain": [
       "<Figure size 640x480 with 1 Axes>"
      ]
     },
     "metadata": {},
     "output_type": "display_data"
    },
    {
     "data": {
      "text/plain": [
       "-1.643616050735785"
      ]
     },
     "execution_count": 22,
     "metadata": {},
     "output_type": "execute_result"
    }
   ],
   "source": [
    "import matplotlib.pyplot as plt\n",
    "import numpy as np\n",
    "import math\n",
    "\n",
    "rand_generator = np.random.default_rng(seed=0)\n",
    "\n",
    "gamma1, gamma2 = 1, 1.5\n",
    "def penalty_func(theta, gamma1=gamma1, gamma2=gamma2):\n",
    "    \"\"\"\n",
    "    Penalty Function\n",
    "    theta: scalar, input variable\n",
    "    \"\"\"\n",
    "    if abs(theta) <= gamma1:\n",
    "        return abs(theta)\n",
    "    elif abs(theta) <= gamma2:\n",
    "        return (2 * gamma2 * abs(theta) - theta * theta - gamma1 * gamma1) \\\n",
    "        / (2 * (gamma2 - gamma1))\n",
    "    else:\n",
    "        return (gamma1 + gamma2) / 2\n",
    "\n",
    "# construct A, x_solution, b\n",
    "m, n = 2 ** 10, 2 ** 12\n",
    "# A: shape [m, n], mean 0, variance 1 / 2n\n",
    "A = rand_generator.normal(0, 1 / math.sqrt(2 * n), (m, n))\n",
    "x_solution = np.zeros(n)\n",
    "random_positions = rand_generator.choice(range(n), size=160, replace=False)\n",
    "for i in random_positions:\n",
    "    x_solution[i] = rand_generator.choice([-1, 1])\n",
    "b = np.dot(A, x_solution) + rand_generator.normal(0, 1 / math.sqrt(10**4), m)\n",
    "\n",
    "# parameter of non-convex penalty function\n",
    "mu = 0.1 * np.linalg.norm(np.dot(A.transpose(), b), ord=np.inf)  # coeff of penalty function\n",
    "alpha_max, alpha_min = 10 ** 30, 1 / 10 ** 30\n",
    "eta = 2\n",
    "sigma = 0.01\n",
    "\n",
    "def main_func(theta):\n",
    "    \"\"\"\n",
    "    Main Objective Funtion\n",
    "    theta: vector, input variable\n",
    "    \"\"\"\n",
    "    fx = 0.5 * (np.linalg.norm(np.dot(A, theta) - b) ** 2)\n",
    "    gx = sum([penalty_func(i) for i in theta])\n",
    "    return fx + mu * gx\n",
    "\n",
    "def solve_sub(ut, alpha):\n",
    "    # find solution for ut_pos\n",
    "    solution_set = []\n",
    "    # (0, gamma1)\n",
    "    if ut - mu / alpha <= 0:\n",
    "        solution_set.append(0)\n",
    "    elif ut - mu / alpha <= gamma1:\n",
    "        solution_set.append(ut - mu / alpha)\n",
    "    else:\n",
    "        solution_set.append(gamma1)\n",
    "    # (gamma1, gamma2)\n",
    "    a = 1 - mu / (alpha * (gamma2 - gamma1))\n",
    "    z = (ut - mu / alpha * gamma2 / (gamma2 - gamma1)) / a\n",
    "    if a <= 0:\n",
    "        solution_set.append(gamma1)\n",
    "        solution_set.append(gamma2)\n",
    "    else:\n",
    "        if z <= gamma1:\n",
    "            solution_set.append(gamma1)\n",
    "        elif z <= gamma2:\n",
    "            solution_set.append(z)\n",
    "        else:\n",
    "            solution_set.append(gamma2)\n",
    "    # (gamma2, +∞)\n",
    "    if ut < gamma2:\n",
    "        solution_set.append(gamma2)\n",
    "    else:\n",
    "        solution_set.append(ut)\n",
    "    \n",
    "    def sub_function(theta):\n",
    "        return 0.5 * (theta - ut) ** 2 + mu / alpha * penalty_func(theta)\n",
    "\n",
    "    solution = min(solution_set, key=sub_function)\n",
    "    print(solution_set, [sub_function(i) for i in solution_set], solution)\n",
    "\n",
    "    # if t > 600:\n",
    "    # check whether solution is the minimizer\n",
    "    x = np.linspace(-5, 5, 10000)\n",
    "    y = [sub_function(i) for i in x]\n",
    "    # if not sub_function(solution) <= min(y) and abs(sub_function(solution) - min(y)) >= 0.01:\n",
    "    print(f\"{sub_function(solution)}, {min(y)}\")\n",
    "    print(f\"solution: {solution}\")\n",
    "    print(f\"ut: {ut}\")\n",
    "    plt.plot(x, y, label='g(x)')\n",
    "    plt.vlines(solution, 0, 16, colors = \"r\", linestyles = \"dashed\")\n",
    "    plt.legend()\n",
    "    plt.show()\n",
    "\n",
    "    return solution\n",
    "\n",
    "ut = -1.643616050735785\n",
    "alpha = 100\n",
    "solve_sub(ut, alpha = alpha) if ut >= 0 else - solve_sub(-ut, alpha = alpha)"
   ]
  },
  {
   "attachments": {},
   "cell_type": "markdown",
   "metadata": {},
   "source": [
    "gamma 10k, 30k\n",
    "beta 10 0.087\n",
    "beta 5 0.072"
   ]
  }
 ],
 "metadata": {
  "kernelspec": {
   "display_name": "to10",
   "language": "python",
   "name": "python3"
  },
  "language_info": {
   "codemirror_mode": {
    "name": "ipython",
    "version": 3
   },
   "file_extension": ".py",
   "mimetype": "text/x-python",
   "name": "python",
   "nbconvert_exporter": "python",
   "pygments_lexer": "ipython3",
   "version": "3.8.13 (default, Mar 28 2022, 06:13:39) \n[Clang 12.0.0 ]"
  },
  "orig_nbformat": 4,
  "vscode": {
   "interpreter": {
    "hash": "75d6cd85e7e1bb8440b5ad999b984afaebe951557d1ee4c179d18485c98ccf78"
   }
  }
 },
 "nbformat": 4,
 "nbformat_minor": 2
}
